{
 "cells": [
  {
   "cell_type": "code",
   "execution_count": 2,
   "metadata": {},
   "outputs": [],
   "source": [
    "import pandas as pd\n",
    "import numpy as np\n",
    "import csv\n",
    "import scipy\n",
    "from scipy.interpolate import interp1d\n",
    "import matplotlib.pyplot as plt \n",
    "\n",
    "import warnings\n",
    "warnings.simplefilter('ignore')\n",
    "\n",
    "from sklearn.model_selection import train_test_split\n",
    "from catboost import CatBoostClassifier\n",
    "\n",
    "df = pd.read_csv('data.csv', sep=',')#.drop('millis_time',axis =1)"
   ]
  },
  {
   "cell_type": "code",
   "execution_count": 161,
   "metadata": {},
   "outputs": [
    {
     "data": {
      "text/html": [
       "<div>\n",
       "<style scoped>\n",
       "    .dataframe tbody tr th:only-of-type {\n",
       "        vertical-align: middle;\n",
       "    }\n",
       "\n",
       "    .dataframe tbody tr th {\n",
       "        vertical-align: top;\n",
       "    }\n",
       "\n",
       "    .dataframe thead th {\n",
       "        text-align: right;\n",
       "    }\n",
       "</style>\n",
       "<table border=\"1\" class=\"dataframe\">\n",
       "  <thead>\n",
       "    <tr style=\"text-align: right;\">\n",
       "      <th></th>\n",
       "      <th>accX</th>\n",
       "      <th>accY</th>\n",
       "      <th>accZ</th>\n",
       "      <th>gyroX</th>\n",
       "      <th>gyroY</th>\n",
       "      <th>gyroZ</th>\n",
       "      <th>millis_time</th>\n",
       "      <th>id</th>\n",
       "    </tr>\n",
       "  </thead>\n",
       "  <tbody>\n",
       "    <tr>\n",
       "      <td>0</td>\n",
       "      <td>7.206665</td>\n",
       "      <td>-3.483700</td>\n",
       "      <td>-5.981627</td>\n",
       "      <td>0.70875</td>\n",
       "      <td>-14.57750</td>\n",
       "      <td>-27.641251</td>\n",
       "      <td>656766</td>\n",
       "      <td>1</td>\n",
       "    </tr>\n",
       "    <tr>\n",
       "      <td>1</td>\n",
       "      <td>7.206665</td>\n",
       "      <td>-3.483700</td>\n",
       "      <td>-5.981627</td>\n",
       "      <td>0.70875</td>\n",
       "      <td>-14.57750</td>\n",
       "      <td>-27.212500</td>\n",
       "      <td>656773</td>\n",
       "      <td>1</td>\n",
       "    </tr>\n",
       "    <tr>\n",
       "      <td>2</td>\n",
       "      <td>6.240034</td>\n",
       "      <td>-3.655971</td>\n",
       "      <td>-5.550951</td>\n",
       "      <td>0.34125</td>\n",
       "      <td>-14.64750</td>\n",
       "      <td>-27.212500</td>\n",
       "      <td>656780</td>\n",
       "      <td>1</td>\n",
       "    </tr>\n",
       "    <tr>\n",
       "      <td>3</td>\n",
       "      <td>6.240034</td>\n",
       "      <td>-3.655971</td>\n",
       "      <td>-5.550951</td>\n",
       "      <td>0.21875</td>\n",
       "      <td>-13.25625</td>\n",
       "      <td>-25.392500</td>\n",
       "      <td>656787</td>\n",
       "      <td>1</td>\n",
       "    </tr>\n",
       "    <tr>\n",
       "      <td>4</td>\n",
       "      <td>6.240034</td>\n",
       "      <td>-3.655971</td>\n",
       "      <td>-5.550951</td>\n",
       "      <td>2.12625</td>\n",
       "      <td>-11.79500</td>\n",
       "      <td>-23.625000</td>\n",
       "      <td>656795</td>\n",
       "      <td>1</td>\n",
       "    </tr>\n",
       "    <tr>\n",
       "      <td>...</td>\n",
       "      <td>...</td>\n",
       "      <td>...</td>\n",
       "      <td>...</td>\n",
       "      <td>...</td>\n",
       "      <td>...</td>\n",
       "      <td>...</td>\n",
       "      <td>...</td>\n",
       "      <td>...</td>\n",
       "    </tr>\n",
       "    <tr>\n",
       "      <td>6495</td>\n",
       "      <td>7.847896</td>\n",
       "      <td>5.512668</td>\n",
       "      <td>-0.765648</td>\n",
       "      <td>-2.25750</td>\n",
       "      <td>13.08125</td>\n",
       "      <td>-31.876249</td>\n",
       "      <td>704903</td>\n",
       "      <td>1</td>\n",
       "    </tr>\n",
       "    <tr>\n",
       "      <td>6496</td>\n",
       "      <td>7.847896</td>\n",
       "      <td>5.512668</td>\n",
       "      <td>-0.765648</td>\n",
       "      <td>-2.17875</td>\n",
       "      <td>13.08125</td>\n",
       "      <td>-31.876249</td>\n",
       "      <td>704911</td>\n",
       "      <td>1</td>\n",
       "    </tr>\n",
       "    <tr>\n",
       "      <td>6497</td>\n",
       "      <td>7.742619</td>\n",
       "      <td>5.876351</td>\n",
       "      <td>-0.775219</td>\n",
       "      <td>-2.28375</td>\n",
       "      <td>13.33500</td>\n",
       "      <td>-31.806250</td>\n",
       "      <td>704918</td>\n",
       "      <td>1</td>\n",
       "    </tr>\n",
       "    <tr>\n",
       "      <td>6498</td>\n",
       "      <td>7.742619</td>\n",
       "      <td>5.876351</td>\n",
       "      <td>-0.775219</td>\n",
       "      <td>-1.44375</td>\n",
       "      <td>12.87125</td>\n",
       "      <td>-32.401249</td>\n",
       "      <td>704925</td>\n",
       "      <td>1</td>\n",
       "    </tr>\n",
       "    <tr>\n",
       "      <td>6499</td>\n",
       "      <td>7.742619</td>\n",
       "      <td>5.876351</td>\n",
       "      <td>-0.775219</td>\n",
       "      <td>-1.08500</td>\n",
       "      <td>13.38750</td>\n",
       "      <td>-31.158751</td>\n",
       "      <td>704933</td>\n",
       "      <td>1</td>\n",
       "    </tr>\n",
       "  </tbody>\n",
       "</table>\n",
       "<p>6500 rows × 8 columns</p>\n",
       "</div>"
      ],
      "text/plain": [
       "          accX      accY      accZ    gyroX     gyroY      gyroZ  millis_time  \\\n",
       "0     7.206665 -3.483700 -5.981627  0.70875 -14.57750 -27.641251       656766   \n",
       "1     7.206665 -3.483700 -5.981627  0.70875 -14.57750 -27.212500       656773   \n",
       "2     6.240034 -3.655971 -5.550951  0.34125 -14.64750 -27.212500       656780   \n",
       "3     6.240034 -3.655971 -5.550951  0.21875 -13.25625 -25.392500       656787   \n",
       "4     6.240034 -3.655971 -5.550951  2.12625 -11.79500 -23.625000       656795   \n",
       "...        ...       ...       ...      ...       ...        ...          ...   \n",
       "6495  7.847896  5.512668 -0.765648 -2.25750  13.08125 -31.876249       704903   \n",
       "6496  7.847896  5.512668 -0.765648 -2.17875  13.08125 -31.876249       704911   \n",
       "6497  7.742619  5.876351 -0.775219 -2.28375  13.33500 -31.806250       704918   \n",
       "6498  7.742619  5.876351 -0.775219 -1.44375  12.87125 -32.401249       704925   \n",
       "6499  7.742619  5.876351 -0.775219 -1.08500  13.38750 -31.158751       704933   \n",
       "\n",
       "      id  \n",
       "0      1  \n",
       "1      1  \n",
       "2      1  \n",
       "3      1  \n",
       "4      1  \n",
       "...   ..  \n",
       "6495   1  \n",
       "6496   1  \n",
       "6497   1  \n",
       "6498   1  \n",
       "6499   1  \n",
       "\n",
       "[6500 rows x 8 columns]"
      ]
     },
     "execution_count": 161,
     "metadata": {},
     "output_type": "execute_result"
    }
   ],
   "source": [
    "df[df.id == 1]"
   ]
  },
  {
   "cell_type": "code",
   "execution_count": 3,
   "metadata": {},
   "outputs": [],
   "source": [
    "def diff(x,y):\n",
    "    h = x[1]-x[0]\n",
    "    y0 = (-3*y[0]+4*y[1]-y[2])/(2*h)\n",
    "    y1 = (y[2:]-y[:-2])/(2*h)\n",
    "    y2 = (y[-3]-4*y[-2]+3*y[-1])/(2*h)\n",
    "    return np.concatenate(([y0],y1,[y2]))"
   ]
  },
  {
   "cell_type": "code",
   "execution_count": 4,
   "metadata": {},
   "outputs": [],
   "source": [
    "def integ(xs,ys):\n",
    "    Y = []\n",
    "    X = []\n",
    "    temp_y = 0.0\n",
    "    temp_x = 0.0\n",
    "    for i in range(len(xs)-1):\n",
    "        temp_x = (xs[i+1]+xs[i])/2\n",
    "        X.append(temp_x)\n",
    "\n",
    "        temp_y += (xs[i+1]-xs[i])*(ys[i+1]+ys[i])/2\n",
    "        Y.append(temp_y)\n",
    "    return np.array(X),np.array(Y)"
   ]
  },
  {
   "cell_type": "code",
   "execution_count": null,
   "metadata": {},
   "outputs": [],
   "source": [
    "_id = 5\n",
    "accX = df[df.id == _id].accX.rolling(100,min_periods=1).mean()\n",
    "            \n",
    "t = df[df.id == _id].millis_time.values - df[df.id == _id].millis_time.values[0]\n",
    "t = t/1000"
   ]
  },
  {
   "cell_type": "code",
   "execution_count": 5,
   "metadata": {
    "scrolled": true
   },
   "outputs": [
    {
     "data": {
      "text/plain": [
       "[<matplotlib.lines.Line2D at 0x125d382d0>]"
      ]
     },
     "execution_count": 5,
     "metadata": {},
     "output_type": "execute_result"
    },
    {
     "data": {
      "image/png": "[encoded data removed]",
      "text/plain": [
       "<Figure size 432x288 with 1 Axes>"
      ]
     },
     "metadata": {
      "needs_background": "light"
     },
     "output_type": "display_data"
    }
   ],
   "source": [
    "xs = np.linspace(-0,5,num=1000)\n",
    "\n",
    "ys = xs\n",
    "\n",
    "X,Y = integ(xs,ys)\n",
    "\n",
    "plt.plot(xs,ys)   \n",
    "plt.plot(X,Y,'r-')    \n"
   ]
  },
  {
   "cell_type": "code",
   "execution_count": 6,
   "metadata": {},
   "outputs": [
    {
     "data": {
      "text/plain": [
       "12.500000000000002"
      ]
     },
     "execution_count": 6,
     "metadata": {},
     "output_type": "execute_result"
    }
   ],
   "source": [
    "Y[-1]"
   ]
  },
  {
   "cell_type": "code",
   "execution_count": 216,
   "metadata": {},
   "outputs": [],
   "source": [
    "_id = 3\n",
    "accX = df[df.id == _id].accY.rolling(100,min_periods=1).mean()\n",
    "accX = np.array(accX)\n",
    "\n",
    "t = df[df.id == _id].millis_time.values - df[df.id == _id].millis_time.values[0]\n",
    "t = t/1000\n",
    "t = np.array(t)"
   ]
  },
  {
   "cell_type": "code",
   "execution_count": 217,
   "metadata": {},
   "outputs": [
    {
     "data": {
      "image/png": "[encoded data removed]",
      "text/plain": [
       "<Figure size 432x288 with 1 Axes>"
      ]
     },
     "metadata": {
      "needs_background": "light"
     },
     "output_type": "display_data"
    },
    {
     "data": {
      "image/png": "[encoded data removed]",
      "text/plain": [
       "<Figure size 432x288 with 1 Axes>"
      ]
     },
     "metadata": {
      "needs_background": "light"
     },
     "output_type": "display_data"
    }
   ],
   "source": [
    "plt.figure()\n",
    "plt.plot(t,accX)\n",
    "plt.show()\n",
    "\n",
    "plt.figure()\n",
    "t_2,vx = integ(t,accX)\n",
    "plt.plot(accX[1:], vx)\n",
    "plt.show()"
   ]
  },
  {
   "cell_type": "code",
   "execution_count": null,
   "metadata": {},
   "outputs": [],
   "source": [
    "x = np.linspace(-1000,1000,2001)\n",
    "    INTER = interp1d(x_i, y_i, bounds_error=False)\n",
    "    y = INTER(x)\n",
    "    \n",
    "    df_2[str(i)] = diff(y,x)"
   ]
  },
  {
   "cell_type": "code",
   "execution_count": 75,
   "metadata": {},
   "outputs": [
    {
     "data": {
      "text/plain": [
       "array([1., 1., 1., ..., 1., 1., 1.])"
      ]
     },
     "execution_count": 75,
     "metadata": {},
     "output_type": "execute_result"
    }
   ],
   "source": [
    "diff(x, diff(x,y))"
   ]
  },
  {
   "cell_type": "code",
   "execution_count": 75,
   "metadata": {},
   "outputs": [
    {
     "data": {
      "text/plain": [
       "array([1., 1., 1., ..., 1., 1., 1.])"
      ]
     },
     "execution_count": 75,
     "metadata": {},
     "output_type": "execute_result"
    }
   ],
   "source": [
    "diff(x, diff(x,y))"
   ]
  },
  {
   "cell_type": "code",
   "execution_count": 14,
   "metadata": {},
   "outputs": [
    {
     "data": {
      "text/plain": [
       "[<matplotlib.lines.Line2D at 0x1268ca610>]"
      ]
     },
     "execution_count": 14,
     "metadata": {},
     "output_type": "execute_result"
    },
    {
     "data": {
      "image/png": "[encoded data removed]",
      "text/plain": [
       "<Figure size 432x288 with 1 Axes>"
      ]
     },
     "metadata": {
      "needs_background": "light"
     },
     "output_type": "display_data"
    }
   ],
   "source": [
    "x = np.linspace(1,3,num=10000)\n",
    "y = np.log(x)\n",
    "plt.plot(x,y,'r-')\n",
    "plt.plot(x,diff(x,y))\n",
    "plt.plot(x,diff(x, diff(x,y)))\n",
    "plt.plot(x,diff(x,diff(x, diff(x,y))))"
   ]
  },
  {
   "cell_type": "code",
   "execution_count": 50,
   "metadata": {},
   "outputs": [
    {
     "data": {
      "text/plain": [
       "array([0.        , 0.44444444, 0.88888889, 1.33333333, 1.77777778,\n",
       "       2.22222222, 2.66666667, 3.11111111, 3.55555556, 4.        ])"
      ]
     },
     "execution_count": 50,
     "metadata": {},
     "output_type": "execute_result"
    }
   ],
   "source": [
    "x"
   ]
  },
  {
   "cell_type": "code",
   "execution_count": 51,
   "metadata": {},
   "outputs": [
    {
     "data": {
      "text/plain": [
       "array([ 0.        ,  0.19753086,  0.79012346,  1.77777778,  3.16049383,\n",
       "        4.9382716 ,  7.11111111,  9.67901235, 12.64197531, 16.        ])"
      ]
     },
     "execution_count": 51,
     "metadata": {},
     "output_type": "execute_result"
    }
   ],
   "source": [
    "y"
   ]
  },
  {
   "cell_type": "code",
   "execution_count": 52,
   "metadata": {},
   "outputs": [
    {
     "data": {
      "text/plain": [
       "array([2.25, 2.25, 2.25, 2.25, 2.25, 2.25, 2.25, 2.25, 2.25, 2.25])"
      ]
     },
     "execution_count": 52,
     "metadata": {},
     "output_type": "execute_result"
    }
   ],
   "source": [
    "diff(x,y)"
   ]
  },
  {
   "cell_type": "code",
   "execution_count": 19,
   "metadata": {},
   "outputs": [
    {
     "data": {
      "text/plain": [
       "[<matplotlib.lines.Line2D at 0x12721ca90>]"
      ]
     },
     "execution_count": 19,
     "metadata": {},
     "output_type": "execute_result"
    },
    {
     "data": {
      "image/png": "[encoded data removed]",
      "text/plain": [
       "<Figure size 432x288 with 1 Axes>"
      ]
     },
     "metadata": {
      "needs_background": "light"
     },
     "output_type": "display_data"
    }
   ],
   "source": [
    "xs = np.linspace(0,1,num=10000)\n",
    "\n",
    "ys = xs**36*(1-xs)**290*scipy.special.binom(9, 0)*scipy.special.binom(132, 19)*scipy.special.binom(97, 6)*scipy.special.binom(52, 11)\n",
    "\n",
    "X,Y = integ(xs,ys)\n",
    "\n",
    "plt.plot(xs,ys)   \n",
    "plt.plot(X,Y,'r-')   "
   ]
  },
  {
   "cell_type": "code",
   "execution_count": 10,
   "metadata": {},
   "outputs": [
    {
     "data": {
      "text/plain": [
       "2.829270645835542e-51"
      ]
     },
     "execution_count": 10,
     "metadata": {},
     "output_type": "execute_result"
    }
   ],
   "source": [
    "Y[-1]"
   ]
  },
  {
   "cell_type": "code",
   "execution_count": null,
   "metadata": {},
   "outputs": [],
   "source": []
  }
 ],
 "metadata": {
  "kernelspec": {
   "display_name": "Python 3",
   "language": "python",
   "name": "python3"
  },
  "language_info": {
   "codemirror_mode": {
    "name": "ipython",
    "version": 3
   },
   "file_extension": ".py",
   "mimetype": "text/x-python",
   "name": "python",
   "nbconvert_exporter": "python",
   "pygments_lexer": "ipython3",
   "version": "3.7.4"
  }
 },
 "nbformat": 4,
 "nbformat_minor": 2
}
