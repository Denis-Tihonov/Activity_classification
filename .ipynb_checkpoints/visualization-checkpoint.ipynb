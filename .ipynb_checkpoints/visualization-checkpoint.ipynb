{
 "cells": [
  {
   "cell_type": "markdown",
   "metadata": {},
   "source": [
    "**Hint:** each paragraph has **To the top** hyperlink"
   ]
  },
  {
   "cell_type": "markdown",
   "metadata": {},
   "source": [
    "<a id=\"nav_cell\"></a>\n",
    "# Navigation"
   ]
  },
  {
   "cell_type": "markdown",
   "metadata": {},
   "source": [
    "1. [Time sampling analysis](#time_sampling)\n",
    "    * [Overall statistics](#time_sampling_overall)\n",
    "- [Sensors' data while no action](#no_action)\n",
    "- [Sensors' data without background processes](#no_back)\n",
    "- [Collected data analysis](#real_data)"
   ]
  },
  {
   "cell_type": "code",
   "execution_count": null,
   "metadata": {
    "collapsed": true
   },
   "outputs": [],
   "source": [
    "from visuals import *"
   ]
  },
  {
   "cell_type": "markdown",
   "metadata": {},
   "source": [
    "<hr>"
   ]
  },
  {
   "cell_type": "markdown",
   "metadata": {},
   "source": [
    "<a id=\"time_sampling\"></a>\n",
    "## Time sampling analysis\n",
    "<a href=\"#nav_cell\" style=\"color: #8f8f8f; float:right;\">To the top</a>\n",
    "<br>\n",
    "Time sampling statistics don't have crucial differencies in different conditions due to the experiments.\n",
    "\n",
    "**Devices used:** Honor 10, Oneplus 6\n",
    "\n",
    "**Cases:** with/without background processes, with/without movements.\n",
    "\n",
    "A lot of zeroed periods are observed. We can reduce it by setting sensor rates to common fixed value (100hz in SensorKinetics)"
   ]
  },
  {
   "cell_type": "markdown",
   "metadata": {},
   "source": [
    "<a id=\"time_sampling_overall\"></a>\n",
    "### Overall statistics\n",
    "<a href=\"#nav_cell\" style=\"color: #8f8f8f; float:right;\">To the top</a>"
   ]
  },
  {
   "cell_type": "code",
   "execution_count": null,
   "metadata": {},
   "outputs": [],
   "source": [
    "data_dir = './data/'\n",
    "games = get_games(data_dir)\n",
    "print(games)"
   ]
  },
  {
   "cell_type": "code",
   "execution_count": null,
   "metadata": {},
   "outputs": [],
   "source": [
    "plot_time_sampling_stats(data_dir, games)"
   ]
  },
  {
   "cell_type": "markdown",
   "metadata": {},
   "source": [
    "<hr>"
   ]
  },
  {
   "cell_type": "markdown",
   "metadata": {},
   "source": [
    "<a id=\"no_action\"></a>\n",
    "# Sensors' data while no action\n",
    "<a href=\"#nav_cell\" style=\"color: #8f8f8f; float:right;\">To the top</a>"
   ]
  },
  {
   "cell_type": "markdown",
   "metadata": {},
   "source": [
    "### Honor10"
   ]
  },
  {
   "cell_type": "code",
   "execution_count": null,
   "metadata": {
    "collapsed": true
   },
   "outputs": [],
   "source": [
    "data_dir = './minor_data/honor10/no_action/'\n",
    "files = os.listdir(data_dir)\n",
    "games = list(set([file[:-8] for file in files]))"
   ]
  },
  {
   "cell_type": "code",
   "execution_count": null,
   "metadata": {},
   "outputs": [],
   "source": [
    "plot_time_sampling_stats(data_dir, games)"
   ]
  },
  {
   "cell_type": "markdown",
   "metadata": {},
   "source": [
    "### Oneplus6"
   ]
  },
  {
   "cell_type": "code",
   "execution_count": null,
   "metadata": {
    "collapsed": true
   },
   "outputs": [],
   "source": [
    "data_dir = './minor_data/oneplus6/no_action/'\n",
    "files = os.listdir(data_dir)\n",
    "games = list(set([file[:-8] for file in files]))"
   ]
  },
  {
   "cell_type": "code",
   "execution_count": null,
   "metadata": {},
   "outputs": [],
   "source": [
    "plot_time_sampling_stats(data_dir, games, delimiter=';', decimal=',')"
   ]
  },
  {
   "cell_type": "markdown",
   "metadata": {},
   "source": [
    "<a id=\"no_back\"></a>\n",
    "# Data without background processes\n",
    "<a href=\"#nav_cell\" style=\"color: #8f8f8f; float:right;\">To the top</a>\n",
    "Checked on Oneplus 6.\n",
    "\n",
    "There are two plots for different sensor rates."
   ]
  },
  {
   "cell_type": "code",
   "execution_count": null,
   "metadata": {
    "collapsed": true
   },
   "outputs": [],
   "source": [
    "data_dir = './minor_data/oneplus6/no_backproc/'\n",
    "files = os.listdir(data_dir)\n",
    "games = list(set([file[:-8] for file in files]))"
   ]
  },
  {
   "cell_type": "code",
   "execution_count": null,
   "metadata": {},
   "outputs": [],
   "source": [
    "games"
   ]
  },
  {
   "cell_type": "markdown",
   "metadata": {},
   "source": [
    "Fixed common rate (100hz):"
   ]
  },
  {
   "cell_type": "code",
   "execution_count": null,
   "metadata": {},
   "outputs": [],
   "source": [
    "plot_time_sampling_stats(data_dir, [games[0]], delimiter=';', decimal=',')"
   ]
  },
  {
   "cell_type": "markdown",
   "metadata": {},
   "source": [
    "Fastest rate for each sensor:"
   ]
  },
  {
   "cell_type": "code",
   "execution_count": null,
   "metadata": {},
   "outputs": [],
   "source": [
    "plot_time_sampling_stats(data_dir, [games[1]], delimiter=';', decimal=',')"
   ]
  },
  {
   "cell_type": "markdown",
   "metadata": {},
   "source": [
    "<hr>"
   ]
  },
  {
   "cell_type": "markdown",
   "metadata": {},
   "source": [
    "<a id=\"real_data\"></a>\n",
    "# Collected data analysis\n",
    "<a href=\"#nav_cell\" style=\"color: #8f8f8f; float:right;\">To the top</a>"
   ]
  },
  {
   "cell_type": "code",
   "execution_count": null,
   "metadata": {
    "collapsed": true
   },
   "outputs": [],
   "source": [
    "data_dir = './minor_data/steps_ladder/'\n",
    "files = os.listdir(data_dir)\n",
    "games = list(set([file[:-8] for file in files]))"
   ]
  },
  {
   "cell_type": "code",
   "execution_count": null,
   "metadata": {},
   "outputs": [],
   "source": [
    "games"
   ]
  },
  {
   "cell_type": "code",
   "execution_count": null,
   "metadata": {},
   "outputs": [],
   "source": [
    "plot_game(data_dir, games[0], ['accm', 'lacm'])"
   ]
  },
  {
   "cell_type": "markdown",
   "metadata": {},
   "source": [
    "There are 4 activity frames (steps_ladder_m_190_75_43 game):\n",
    "\n",
    "Activity | Frame accm | Frame lacm\n",
    "-|-|-\n",
    "Around the room | `[1100:6500]` | `[450:3350]`\n",
    "Upstairs (10 + 9 stairs) | `[8100:12500]` | `[4000:4980] && [5350:6300]`\n",
    "Around the room | `[14000:17600]` | `[7000:8800]`\n",
    "Downstairs (9 + 10 stairs) | `[18800:23500]` | `[9400:10500] && [10850:12000]`\n"
   ]
  },
  {
   "cell_type": "code",
   "execution_count": null,
   "metadata": {
    "collapsed": true
   },
   "outputs": [],
   "source": [
    "data = pd.read_csv(data_dir + games[0] + 'lacm.csv', delimiter=',', decimal='.')\n",
    "\n",
    "\n",
    "x_acc = (data['X_value'].values).reshape([-1, 1])"
   ]
  },
  {
   "cell_type": "code",
   "execution_count": null,
   "metadata": {
    "scrolled": false
   },
   "outputs": [],
   "source": [
    "track1, basis1 = phase_track(x_acc[450:3550], 600, 2, plot_correlation_matrix=True)\n",
    "track2, basis2 = phase_track(x_acc[4000:6300], 600, 2, plot_correlation_matrix=True)\n",
    "track3, basis3 = phase_track(x_acc[7000:8800], 600, 2, plot_correlation_matrix=True)\n",
    "track4, basis4 = phase_track(x_acc[9400:12000], 600, 2, plot_correlation_matrix=True)\n",
    "\n",
    "# track1, basis1 = phase_track(x_acc[1100:6500], 600, 2)\n",
    "# track2, basis2 = phase_track(x_acc[8100:12500], 600, 2)\n",
    "# track3, basis3 = phase_track(x_acc[14000:17600], 600, 2)\n",
    "# track4, basis4 = phase_track(x_acc[18800:23500], 600, 2)"
   ]
  },
  {
   "cell_type": "code",
   "execution_count": null,
   "metadata": {},
   "outputs": [],
   "source": [
    "plot_phase_track(track1)"
   ]
  },
  {
   "cell_type": "code",
   "execution_count": null,
   "metadata": {},
   "outputs": [],
   "source": [
    "plot_phase_track(track2)"
   ]
  },
  {
   "cell_type": "code",
   "execution_count": null,
   "metadata": {},
   "outputs": [],
   "source": [
    "plot_phase_track(track3)"
   ]
  },
  {
   "cell_type": "code",
   "execution_count": null,
   "metadata": {},
   "outputs": [],
   "source": [
    "plot_phase_track(track4)"
   ]
  },
  {
   "cell_type": "markdown",
   "metadata": {},
   "source": [
    "<hr>"
   ]
  },
  {
   "cell_type": "markdown",
   "metadata": {},
   "source": [
    "## Sum of squares"
   ]
  },
  {
   "cell_type": "code",
   "execution_count": null,
   "metadata": {
    "collapsed": true
   },
   "outputs": [],
   "source": [
    "all_acc = data['X_value'].values**2 + data['Y_value'].values**2 + data['Z_value'].values**2\n",
    "all_acc = all_acc.reshape([-1, 1])"
   ]
  },
  {
   "cell_type": "code",
   "execution_count": null,
   "metadata": {
    "collapsed": true
   },
   "outputs": [],
   "source": [
    "data['all'] = all_acc"
   ]
  },
  {
   "cell_type": "code",
   "execution_count": null,
   "metadata": {},
   "outputs": [],
   "source": [
    "fig = go.Figure()\n",
    "fig.add_scatter(x = data['time'], y = data['all'], mode='lines', name='Sum squares')\n",
    "# fig.add_scatter(x = data['time'], y = data['Y_value'], mode='lines', name='Y_value')\n",
    "# fig.add_scatter(x = data['time'], y = data['Z_value'], mode='lines', name='Z_value')\n",
    "\n",
    "fig.for_each_trace(\n",
    "    lambda trace: trace.update(name=trace.name.replace(\"_value\", \"\")),\n",
    ")\n",
    "\n",
    "fig.layout.template = 'plotly_white'\n",
    "\n",
    "fig.show()"
   ]
  },
  {
   "cell_type": "code",
   "execution_count": null,
   "metadata": {},
   "outputs": [],
   "source": [
    "all_acc.shape"
   ]
  },
  {
   "cell_type": "code",
   "execution_count": null,
   "metadata": {
    "scrolled": false
   },
   "outputs": [],
   "source": [
    "track1, basis1 = phase_track(all_acc[450:3550], 600, 2)\n",
    "track2, basis2 = phase_track(all_acc[4000:6300], 600, 2)\n",
    "track3, basis3 = phase_track(all_acc[7000:8800], 600, 2)\n",
    "track4, basis4 = phase_track(all_acc[9400:12000], 600, 2)"
   ]
  },
  {
   "cell_type": "code",
   "execution_count": null,
   "metadata": {},
   "outputs": [],
   "source": [
    "plot_phase_track(track2)"
   ]
  },
  {
   "cell_type": "code",
   "execution_count": null,
   "metadata": {
    "scrolled": false
   },
   "outputs": [],
   "source": [
    "track1, basis1 = phase_track(x_acc[450:3550], 600, 3)\n",
    "track2, basis2 = phase_track(x_acc[4000:6300], 600, 3)\n",
    "track3, basis3 = phase_track(x_acc[7000:8800], 600, 3)\n",
    "track4, basis4 = phase_track(x_acc[9400:12000], 600, 3)\n",
    "\n",
    "# track1, basis1 = phase_track(x_acc[1100:6500], 600, 2)\n",
    "# track2, basis2 = phase_track(x_acc[8100:12500], 600, 2)\n",
    "# track3, basis3 = phase_track(x_acc[14000:17600], 600, 2)\n",
    "# track4, basis4 = phase_track(x_acc[18800:23500], 600, 2)"
   ]
  },
  {
   "cell_type": "code",
   "execution_count": null,
   "metadata": {},
   "outputs": [],
   "source": [
    "plot_phase_track(track1)"
   ]
  },
  {
   "cell_type": "code",
   "execution_count": null,
   "metadata": {},
   "outputs": [],
   "source": [
    "plot_phase_track(track2)"
   ]
  },
  {
   "cell_type": "code",
   "execution_count": null,
   "metadata": {},
   "outputs": [],
   "source": [
    "plot_phase_track(track3)"
   ]
  },
  {
   "cell_type": "code",
   "execution_count": null,
   "metadata": {},
   "outputs": [],
   "source": [
    "plot_phase_track(track4)"
   ]
  }
 ],
 "metadata": {
  "kernelspec": {
   "display_name": "Python 3",
   "language": "python",
   "name": "python3"
  },
  "language_info": {
   "codemirror_mode": {
    "name": "ipython",
    "version": 3
   },
   "file_extension": ".py",
   "mimetype": "text/x-python",
   "name": "python",
   "nbconvert_exporter": "python",
   "pygments_lexer": "ipython3",
   "version": "3.7.4"
  },
  "widgets": {
   "application/vnd.jupyter.widget-state+json": {
    "state": {},
    "version_major": 2,
    "version_minor": 0
   }
  }
 },
 "nbformat": 4,
 "nbformat_minor": 2
}
