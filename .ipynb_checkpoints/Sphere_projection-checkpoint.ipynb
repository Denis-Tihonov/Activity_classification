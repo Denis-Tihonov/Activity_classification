{
 "cells": [
  {
   "cell_type": "code",
   "execution_count": 1,
   "metadata": {},
   "outputs": [],
   "source": [
    "from visuals import *\n"
   ]
  },
  {
   "cell_type": "code",
   "execution_count": 6,
   "metadata": {},
   "outputs": [],
   "source": [
    "data = pd.read_csv('walk_30sec_5m_all_acc.csv', delimiter =';')#, decimal='.')"
   ]
  },
  {
   "cell_type": "code",
   "execution_count": 8,
   "metadata": {},
   "outputs": [
    {
     "data": {
      "text/html": [
       "<div>\n",
       "<style scoped>\n",
       "    .dataframe tbody tr th:only-of-type {\n",
       "        vertical-align: middle;\n",
       "    }\n",
       "\n",
       "    .dataframe tbody tr th {\n",
       "        vertical-align: top;\n",
       "    }\n",
       "\n",
       "    .dataframe thead th {\n",
       "        text-align: right;\n",
       "    }\n",
       "</style>\n",
       "<table border=\"1\" class=\"dataframe\">\n",
       "  <thead>\n",
       "    <tr style=\"text-align: right;\">\n",
       "      <th></th>\n",
       "      <th>time</th>\n",
       "      <th>X_value</th>\n",
       "      <th>Y_value</th>\n",
       "      <th>Z_value</th>\n",
       "    </tr>\n",
       "  </thead>\n",
       "  <tbody>\n",
       "    <tr>\n",
       "      <td>0</td>\n",
       "      <td>0,0039</td>\n",
       "      <td>-3,49085</td>\n",
       "      <td>1,50839</td>\n",
       "      <td>9,34725</td>\n",
       "    </tr>\n",
       "    <tr>\n",
       "      <td>1</td>\n",
       "      <td>0,0048</td>\n",
       "      <td>-3,3855</td>\n",
       "      <td>1,49882</td>\n",
       "      <td>9,54358</td>\n",
       "    </tr>\n",
       "    <tr>\n",
       "      <td>2</td>\n",
       "      <td>0,0062</td>\n",
       "      <td>-3,28255</td>\n",
       "      <td>1,48924</td>\n",
       "      <td>9,72554</td>\n",
       "    </tr>\n",
       "    <tr>\n",
       "      <td>3</td>\n",
       "      <td>0,0081</td>\n",
       "      <td>-3,23467</td>\n",
       "      <td>1,48924</td>\n",
       "      <td>9,81174</td>\n",
       "    </tr>\n",
       "    <tr>\n",
       "      <td>4</td>\n",
       "      <td>0,0105</td>\n",
       "      <td>-3,15565</td>\n",
       "      <td>1,48924</td>\n",
       "      <td>9,98413</td>\n",
       "    </tr>\n",
       "  </tbody>\n",
       "</table>\n",
       "</div>"
      ],
      "text/plain": [
       "     time   X_value  Y_value  Z_value\n",
       "0  0,0039  -3,49085  1,50839  9,34725\n",
       "1  0,0048   -3,3855  1,49882  9,54358\n",
       "2  0,0062  -3,28255  1,48924  9,72554\n",
       "3  0,0081  -3,23467  1,48924  9,81174\n",
       "4  0,0105  -3,15565  1,48924  9,98413"
      ]
     },
     "execution_count": 8,
     "metadata": {},
     "output_type": "execute_result"
    }
   ],
   "source": [
    "data.head()"
   ]
  },
  {
   "cell_type": "code",
   "execution_count": 13,
   "metadata": {},
   "outputs": [
    {
     "data": {
      "text/plain": [
       "(array([['-3,49085'],\n",
       "        ['-3,3855'],\n",
       "        ['-3,28255'],\n",
       "        ...,\n",
       "        ['-0,18196'],\n",
       "        ['-0,18915'],\n",
       "        ['-0,18675']], dtype=object), array([['0,0039'],\n",
       "        ['0,0048'],\n",
       "        ['0,0062'],\n",
       "        ...,\n",
       "        ['33,5216'],\n",
       "        ['33,5243'],\n",
       "        ['33,5292']], dtype=object))"
      ]
     },
     "execution_count": 13,
     "metadata": {},
     "output_type": "execute_result"
    }
   ],
   "source": [
    "x_acc = (data['X_value'].values).reshape([-1, 1])\n",
    "t = (data['time'].values).reshape([-1, 1])\n",
    "x_acc, t"
   ]
  },
  {
   "cell_type": "code",
   "execution_count": null,
   "metadata": {},
   "outputs": [],
   "source": []
  }
 ],
 "metadata": {
  "kernelspec": {
   "display_name": "Python 3",
   "language": "python",
   "name": "python3"
  },
  "language_info": {
   "codemirror_mode": {
    "name": "ipython",
    "version": 3
   },
   "file_extension": ".py",
   "mimetype": "text/x-python",
   "name": "python",
   "nbconvert_exporter": "python",
   "pygments_lexer": "ipython3",
   "version": "3.7.4"
  }
 },
 "nbformat": 4,
 "nbformat_minor": 2
}
